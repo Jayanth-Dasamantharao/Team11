{
 "cells": [
  {
   "cell_type": "code",
   "execution_count": 5,
   "id": "338dc8c0",
   "metadata": {},
   "outputs": [],
   "source": [
    "import pymongo\n",
    "import json"
   ]
  },
  {
   "cell_type": "code",
   "execution_count": 6,
   "id": "0bd14704",
   "metadata": {},
   "outputs": [],
   "source": [
    "client = pymongo.MongoClient(\"mongodb://localhost:27017\")\n",
    "db = client[\"twitter\"]"
   ]
  },
  {
   "cell_type": "code",
   "execution_count": 77,
   "id": "75ea349a",
   "metadata": {},
   "outputs": [],
   "source": [
    "db.tweets.drop()"
   ]
  },
  {
   "cell_type": "code",
   "execution_count": 80,
   "id": "a7b1f021",
   "metadata": {},
   "outputs": [
    {
     "data": {
      "text/plain": [
       "0"
      ]
     },
     "execution_count": 80,
     "metadata": {},
     "output_type": "execute_result"
    }
   ],
   "source": [
    "db.tweets.count_documents({})"
   ]
  },
  {
   "cell_type": "code",
   "execution_count": null,
   "id": "231ba278",
   "metadata": {},
   "outputs": [],
   "source": [
    "selected_columns = ['id', 'created_at', 'text', 'source', 'quote_count', 'reply_count', 'retweet_count', 'favorite_count', 'entities']\n",
    "\n",
    "def filter_func(item):\n",
    "    key, value = item\n",
    "    \n",
    "    if key in selected_columns:\n",
    "        return True\n",
    "    else:\n",
    "        return False"
   ]
  },
  {
   "cell_type": "code",
   "execution_count": null,
   "id": "253b79d3",
   "metadata": {},
   "outputs": [],
   "source": [
    "def cleaning(data):\n",
    "        doc = dict(filter(filter_func, data.items()))\n",
    "        doc['user_id'] = data['user']['id']\n",
    "        doc['hashtags'] = doc['entities']['hashtags']\n",
    "        doc['user_mentions'] = doc['entities']['user_mentions']\n",
    "        doc['_id'] = doc['id']\n",
    "        del doc['id']\n",
    "        del doc['entities']\n",
    "        return doc"
   ]
  },
  {
   "cell_type": "code",
   "execution_count": null,
   "id": "1fb02b6d",
   "metadata": {},
   "outputs": [],
   "source": [
    "with open(\"corona-out-sample\", \"r\") as f1:\n",
    "    for line in f1:\n",
    "        try:\n",
    "            data = json.loads(line)\n",
    "            doc = cleaning(data)\n",
    "                        \n",
    "            if 'retweeted_status' in data:\n",
    "                doc['retweeted_status_id'] = data['retweeted_status']['id']\n",
    "                retweet = cleaning(data['retweeted_status'])\n",
    "\n",
    "                try:\n",
    "                    db.tweets.insert_one(retweet)\n",
    "                except Exception:\n",
    "                    pass\n",
    "                    \n",
    "            db.tweets.insert_one(doc)\n",
    "            \n",
    "        except Exception:\n",
    "            continue"
   ]
  }
 ],
 "metadata": {
  "kernelspec": {
   "display_name": "Python 3 (ipykernel)",
   "language": "python",
   "name": "python3"
  },
  "language_info": {
   "codemirror_mode": {
    "name": "ipython",
    "version": 3
   },
   "file_extension": ".py",
   "mimetype": "text/x-python",
   "name": "python",
   "nbconvert_exporter": "python",
   "pygments_lexer": "ipython3",
   "version": "3.8.2"
  }
 },
 "nbformat": 4,
 "nbformat_minor": 5
}
